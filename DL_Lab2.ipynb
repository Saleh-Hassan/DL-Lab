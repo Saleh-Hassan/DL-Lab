{
 "metadata": {
  "kernelspec": {
   "display_name": "Python 2",
   "language": "python",
   "name": "python2"
  },
  "language_info": {
   "codemirror_mode": {
    "name": "ipython",
    "version": 2
   },
   "file_extension": ".py",
   "mimetype": "text/x-python",
   "name": "python",
   "nbconvert_exporter": "python",
   "pygments_lexer": "ipython2",
   "version": "2.7.10"
  },
  "name": "",
  "signature": "sha256:d34ff898c940b46a93bfcd50f0997ea7aca05ee682fd250646510f9968273a5b"
 },
 "nbformat": 3,
 "nbformat_minor": 0,
 "worksheets": [
  {
   "cells": [
    {
     "cell_type": "markdown",
     "metadata": {
      "collapsed": false
     },
     "source": [
      "# 1 Implementing a CNN in Tensorflow\n",
      "First, we will implement a scaled-down version of LeNet which we have discussed during the lecture. You can reuse your code from the previous example to load MNIST. Our CNN consists of two convolutional layers (16 3 \u00d7 3 filters and a stride of 1), each followed by ReLU activations and a max pooling layer. After the convolution layers we add a fully connected layer with 128 units and a softmax layer to do the classification. We train the network by optimizing the cross-entropy loss with stochastic gradient descent. Make sure that you save the validation performance after each epoch, i.e the learning curve, since we are going to need them for the experiments in the next section"
     ]
    },
    {
     "cell_type": "code",
     "collapsed": false,
     "input": [
      "%matplotlib inline\n",
      "import tensorflow as tf\n",
      "import time\n",
      "from matplotlib import pyplot as plt\n",
      "import matplotlib.cm as cm\n",
      "\n",
      "# Import MNIST data\n",
      "from tensorflow.examples.tutorials.mnist import input_data\n",
      "mnist = input_data.read_data_sets(\"/tmp/data/\", one_hot=True)\n",
      "\n",
      "# Training Parameters\n",
      "learning_rate = 0.001\n",
      "\n",
      "# Network Parameters\n",
      "num_input = 784 \n",
      "n_classes = 10\n",
      "\n",
      "# Create the neural network\n",
      "def conv_net(x_train, no_of_filters = 16):\n",
      "    x_train = tf.reshape(x_train, shape=[-1, 28, 28, 1])\n",
      "    \n",
      "    conv1 = tf.layers.conv2d(x_train, no_of_filters, 3, activation=tf.nn.relu)\n",
      "    pool1 = tf.layers.max_pooling2d(conv1, 2, 2)\n",
      "    \n",
      "    conv2 = tf.layers.conv2d(pool1, no_of_filters, 3, activation=tf.nn.relu)\n",
      "    pool2 = tf.layers.max_pooling2d(conv2, 2, 2)\n",
      "    \n",
      "    fully_conntected = tf.contrib.layers.flatten(pool2)\n",
      "    fully_conntected = tf.layers.dense(fully_conntected, 128)\n",
      "    output = tf.layers.dense(fully_conntected, n_classes)\n",
      "    return output\n",
      "\n",
      "\n",
      "def total_parameters(total_filter):\n",
      "    bias = 1\n",
      "    l1_parameters = (3 * 3 * 1 + bias) * total_filter\n",
      "    l2_parameters = (3 * 3 * total_filter + bias) * total_filter\n",
      "    l3_parameters = (7 * 7 * total_filter + bias) * 128\n",
      "    l4_parameters = (128 + bias) * 10\n",
      "    return l1_parameters + l2_parameters + l3_parameters + l4_parameters\n",
      "\n",
      "\n",
      "def conv_net_train(total_epochs = 5, learning_rate = 0.1, batch_size = 128, no_of_filters = 16, evaluation = True):\n",
      "    \n",
      "    # TensorFlow Graph input\n",
      "    X = tf.placeholder(tf.float32, [None, num_input])\n",
      "    Y = tf.placeholder(tf.float32, [None, n_classes])\n",
      "\n",
      "    logits = conv_net(X, no_of_filters)\n",
      "    prediction = tf.nn.softmax(logits)\n",
      "    loss_operation = tf.reduce_mean(tf.nn.softmax_cross_entropy_with_logits(\n",
      "        logits=logits, labels=Y))\n",
      "    optimizer = tf.train.GradientDescentOptimizer(learning_rate=learning_rate)\n",
      "    train_operation = optimizer.minimize(loss=loss_operation,global_step=tf.train.get_global_step())\n",
      "    \n",
      "    # Evaluate model\n",
      "    correct_pred = tf.equal(tf.argmax(prediction, 1), tf.argmax(Y, 1))\n",
      "    accuracy = tf.reduce_mean(tf.cast(correct_pred, tf.float32))\n",
      "\n",
      "    # Initialize the variables (i.e. assign their default value)\n",
      "    init = tf.global_variables_initializer()\n",
      "\n",
      "    \n",
      "    train_acc_list = list()\n",
      "    val_acc_list = list()\n",
      "    test_acc_list = list()\n",
      "    \n",
      "    # Start training\n",
      "    with tf.Session() as sess:\n",
      "\n",
      "        # Run the initializer\n",
      "        sess.run(init)\n",
      "        \n",
      "        max_steps = int(mnist.train.num_examples/batch_size)\n",
      "        for epoch in range(total_epochs):\n",
      "            for step in range(max_steps):\n",
      "                batch_x, batch_y = mnist.train.next_batch(batch_size)\n",
      "                sess.run(train_operation, feed_dict={X: batch_x, Y: batch_y})\n",
      "                \n",
      "            if evaluation:\n",
      "                train_acc = sess.run(accuracy, feed_dict={X: mnist.train.images[:1000],\n",
      "                                                               Y: mnist.train.labels[:1000]})\n",
      "\n",
      "                validation_acc = sess.run(accuracy, feed_dict={X: mnist.validation.images[:1000], \n",
      "                                                                    Y: mnist.validation.labels[:1000]})\n",
      "\n",
      "                test_acc = sess.run(accuracy, feed_dict={X: mnist.test.images[:1000],\n",
      "                                                              Y: mnist.test.labels[:1000]})\n",
      "\n",
      "                print(\"Epoch \" + str(epoch) + \", Training Accuracy= \" + \\\n",
      "                \"{:.4f}\".format(train_acc) + \", Validation Accuracy= \" + \\\n",
      "                \"{:.4f}\".format(validation_acc) + \", Test Accuracy= \" + \\\n",
      "                \"{:.4f}\".format(test_acc))\n",
      "\n",
      "                train_acc_list.append(train_acc)\n",
      "                val_acc_list.append(validation_acc)\n",
      "                test_acc_list.append(test_acc)\n",
      "    \n",
      "    return (train_acc_list, val_acc_list, test_acc_list)\n",
      "\n",
      "def show_accuracy_plot():\n",
      "    accuracy_list = conv_net_train(learning_rate=0.1, total_epochs=15)\n",
      "    plt.plot(range(1,len(accuracy_list[0]) + 1), accuracy_list[0], 'k--' ,label='Training Accuracy')\n",
      "    plt.plot(range(1,len(accuracy_list[1]) + 1), accuracy_list[1], 'k:' , label='Validation Accuracy')\n",
      "    plt.plot(range(1,len(accuracy_list[2]) + 1), accuracy_list[2], 'k' ,label='Test Accuracy')\n",
      "    plt.legend(bbox_to_anchor=(1.1, 1), loc=2, shadow=True)\n",
      "    plt.xlabel('epochs')\n",
      "    plt.ylabel('accuracy')\n",
      "    plt.savefig('all_accuracies.png', bbox_inches='tight')\n",
      "    plt.show()\n",
      "    \n",
      "show_accuracy_plot()"
     ],
     "language": "python",
     "metadata": {},
     "outputs": [
      {
       "output_type": "stream",
       "stream": "stdout",
       "text": [
        "Extracting /tmp/data/train-images-idx3-ubyte.gz\n",
        "Extracting"
       ]
      },
      {
       "output_type": "stream",
       "stream": "stdout",
       "text": [
        " /tmp/data/train-labels-idx1-ubyte.gz\n",
        "Extracting /tmp/data/t10k-images-idx3-ubyte.gz\n",
        "Extracting /tmp/data/t10k-labels-idx1-ubyte.gz\n",
        "Epoch 0, Training Accuracy= 0.9680, Validation Accuracy= 0.9620, Test Accuracy= 0.9670"
       ]
      },
      {
       "output_type": "stream",
       "stream": "stdout",
       "text": [
        "\n",
        "Epoch 1, Training Accuracy= 0.9690, Validation Accuracy= 0.9750, Test Accuracy= 0.9740"
       ]
      },
      {
       "output_type": "stream",
       "stream": "stdout",
       "text": [
        "\n",
        "Epoch 2, Training Accuracy= 0.9800, Validation Accuracy= 0.9740, Test Accuracy= 0.9770"
       ]
      },
      {
       "output_type": "stream",
       "stream": "stdout",
       "text": [
        "\n",
        "Epoch 3, Training Accuracy= 0.9850, Validation Accuracy= 0.9740, Test Accuracy= 0.9780"
       ]
      },
      {
       "output_type": "stream",
       "stream": "stdout",
       "text": [
        "\n",
        "Epoch 4, Training Accuracy= 0.9830, Validation Accuracy= 0.9790, Test Accuracy= 0.9830"
       ]
      },
      {
       "output_type": "stream",
       "stream": "stdout",
       "text": [
        "\n",
        "Epoch 5, Training Accuracy= 0.9740, Validation Accuracy= 0.9720, Test Accuracy= 0.9710"
       ]
      },
      {
       "output_type": "stream",
       "stream": "stdout",
       "text": [
        "\n",
        "Epoch 6, Training Accuracy= 0.9800, Validation Accuracy= 0.9820, Test Accuracy= 0.9880"
       ]
      },
      {
       "output_type": "stream",
       "stream": "stdout",
       "text": [
        "\n",
        "Epoch 7, Training Accuracy= 0.9880, Validation Accuracy= 0.9810, Test Accuracy= 0.9880"
       ]
      },
      {
       "output_type": "stream",
       "stream": "stdout",
       "text": [
        "\n",
        "Epoch 8, Training Accuracy= 0.9750, Validation Accuracy= 0.9810, Test Accuracy= 0.9850"
       ]
      },
      {
       "output_type": "stream",
       "stream": "stdout",
       "text": [
        "\n",
        "Epoch 9, Training Accuracy= 0.9920, Validation Accuracy= 0.9790, Test Accuracy= 0.9880"
       ]
      },
      {
       "output_type": "stream",
       "stream": "stdout",
       "text": [
        "\n",
        "Epoch 10, Training Accuracy= 0.9910, Validation Accuracy= 0.9810, Test Accuracy= 0.9850"
       ]
      },
      {
       "output_type": "stream",
       "stream": "stdout",
       "text": [
        "\n",
        "Epoch 11, Training Accuracy= 0.9880, Validation Accuracy= 0.9830, Test Accuracy= 0.9840"
       ]
      },
      {
       "output_type": "stream",
       "stream": "stdout",
       "text": [
        "\n",
        "Epoch 12, Training Accuracy= 0.9900, Validation Accuracy= 0.9830, Test Accuracy= 0.9900"
       ]
      },
      {
       "output_type": "stream",
       "stream": "stdout",
       "text": [
        "\n",
        "Epoch 13, Training Accuracy= 0.9900, Validation Accuracy= 0.9840, Test Accuracy= 0.9860"
       ]
      },
      {
       "output_type": "stream",
       "stream": "stdout",
       "text": [
        "\n",
        "Epoch 14, Training Accuracy= 0.9940, Validation Accuracy= 0.9790, Test Accuracy= 0.9840"
       ]
      },
      {
       "output_type": "stream",
       "stream": "stdout",
       "text": [
        "\n"
       ]
      },
      {
       "metadata": {},
       "output_type": "display_data",
       "png": "[encoded data removed]",
       "text": [
        "<matplotlib.figure.Figure at 0x7fb3b7fdccc0>"
       ]
      }
     ],
     "prompt_number": 1
    },
    {
     "cell_type": "markdown",
     "metadata": {
      "collapsed": false
     },
     "source": [
      "# 2 Changing the Learning Rate\n",
      "After implementing our neural networks and making sure that it works correctly, we will have a look on the effect of the learning rate on the network\u2019s performance. Try the following values for the learning rate: {0.1, 0.01, 0.001, 0.0001}, save the results (validation performance after each epoch) and plot all learning curves in the same figure. Which conclusions could be drawn from this figure? Which value for the learning rate works best."
     ]
    },
    {
     "cell_type": "code",
     "collapsed": false,
     "input": [
      "validation_accuracy_list = list()\n",
      "learning_rates_list = [0.1, 0.01, 0.001, 0.0001]\n",
      "for lrate in learning_rates_list:\n",
      "    print(\"Starting training for learning rate : \",lrate)\n",
      "    accuracy_list = conv_net_train(learning_rate=lrate, total_epochs=5)\n",
      "    validation_accuracy_list.append(accuracy_list[1])\n",
      "\n",
      "for iterator, val_acc in enumerate(validation_accuracy_list):\n",
      "    plt.plot(range(1,len(val_acc) + 1), val_acc, label='learning rate:%s' % learning_rates_list[iterator])\n",
      "    plt.xlabel('epochs')\n",
      "    plt.ylabel('validation accuracy')\n",
      "plt.legend(bbox_to_anchor=(1.1, 1), loc=2, shadow=True)\n",
      "plt.savefig('learning_rate.png')\n",
      "plt.show()"
     ],
     "language": "python",
     "metadata": {},
     "outputs": [
      {
       "output_type": "stream",
       "stream": "stdout",
       "text": [
        "Starting training for learning rate :  0.1\n",
        "Epoch 0, Training Accuracy= 0.9500, Validation Accuracy= 0.9550, Test Accuracy= 0.9680"
       ]
      },
      {
       "output_type": "stream",
       "stream": "stdout",
       "text": [
        "\n",
        "Epoch 1, Training Accuracy= 0.9750, Validation Accuracy= 0.9660, Test Accuracy= 0.9780"
       ]
      },
      {
       "output_type": "stream",
       "stream": "stdout",
       "text": [
        "\n",
        "Epoch 2, Training Accuracy= 0.9580, Validation Accuracy= 0.9670, Test Accuracy= 0.9710"
       ]
      },
      {
       "output_type": "stream",
       "stream": "stdout",
       "text": [
        "\n",
        "Epoch 3, Training Accuracy= 0.9760, Validation Accuracy= 0.9690, Test Accuracy= 0.9800"
       ]
      },
      {
       "output_type": "stream",
       "stream": "stdout",
       "text": [
        "\n",
        "Epoch 4, Training Accuracy= 0.9860, Validation Accuracy= 0.9780, Test Accuracy= 0.9820"
       ]
      },
      {
       "output_type": "stream",
       "stream": "stdout",
       "text": [
        "\n",
        "Starting training for learning rate :  0.01\n",
        "Epoch 0, Training Accuracy= 0.8670, Validation Accuracy= 0.8750, Test Accuracy= 0.8770"
       ]
      },
      {
       "output_type": "stream",
       "stream": "stdout",
       "text": [
        "\n",
        "Epoch 1, Training Accuracy= 0.9090, Validation Accuracy= 0.9180, Test Accuracy= 0.9090"
       ]
      },
      {
       "output_type": "stream",
       "stream": "stdout",
       "text": [
        "\n",
        "Epoch 2, Training Accuracy= 0.9190, Validation Accuracy= 0.9350, Test Accuracy= 0.9360"
       ]
      },
      {
       "output_type": "stream",
       "stream": "stdout",
       "text": [
        "\n",
        "Epoch 3, Training Accuracy= 0.9460, Validation Accuracy= 0.9340, Test Accuracy= 0.9460"
       ]
      },
      {
       "output_type": "stream",
       "stream": "stdout",
       "text": [
        "\n",
        "Epoch 4, Training Accuracy= 0.9580, Validation Accuracy= 0.9480, Test Accuracy= 0.9520"
       ]
      },
      {
       "output_type": "stream",
       "stream": "stdout",
       "text": [
        "\n",
        "Starting training for learning rate :  0.001\n",
        "Epoch 0, Training Accuracy= 0.1500, Validation Accuracy= 0.1460, Test Accuracy= 0.1730"
       ]
      },
      {
       "output_type": "stream",
       "stream": "stdout",
       "text": [
        "\n",
        "Epoch 1, Training Accuracy= 0.3150, Validation Accuracy= 0.2630, Test Accuracy= 0.3070"
       ]
      },
      {
       "output_type": "stream",
       "stream": "stdout",
       "text": [
        "\n",
        "Epoch 2, Training Accuracy= 0.4630, Validation Accuracy= 0.4570, Test Accuracy= 0.5140"
       ]
      },
      {
       "output_type": "stream",
       "stream": "stdout",
       "text": [
        "\n",
        "Epoch 3, Training Accuracy= 0.7060, Validation Accuracy= 0.7030, Test Accuracy= 0.7020"
       ]
      },
      {
       "output_type": "stream",
       "stream": "stdout",
       "text": [
        "\n",
        "Epoch 4, Training Accuracy= 0.7910, Validation Accuracy= 0.7620, Test Accuracy= 0.7470"
       ]
      },
      {
       "output_type": "stream",
       "stream": "stdout",
       "text": [
        "\n",
        "Starting training for learning rate :  0.0001\n",
        "Epoch 0, Training Accuracy= 0.0710, Validation Accuracy= 0.0720, Test Accuracy= 0.0880"
       ]
      },
      {
       "output_type": "stream",
       "stream": "stdout",
       "text": [
        "\n",
        "Epoch 1, Training Accuracy= 0.0840, Validation Accuracy= 0.0800, Test Accuracy= 0.0960"
       ]
      },
      {
       "output_type": "stream",
       "stream": "stdout",
       "text": [
        "\n",
        "Epoch 2, Training Accuracy= 0.0840, Validation Accuracy= 0.0870, Test Accuracy= 0.1070"
       ]
      },
      {
       "output_type": "stream",
       "stream": "stdout",
       "text": [
        "\n",
        "Epoch 3, Training Accuracy= 0.1170, Validation Accuracy= 0.0970, Test Accuracy= 0.1210"
       ]
      },
      {
       "output_type": "stream",
       "stream": "stdout",
       "text": [
        "\n",
        "Epoch 4, Training Accuracy= 0.1160, Validation Accuracy= 0.1080, Test Accuracy= 0.1300"
       ]
      },
      {
       "output_type": "stream",
       "stream": "stdout",
       "text": [
        "\n"
       ]
      },
      {
       "metadata": {},
       "output_type": "display_data",
       "png": "[encoded data removed]",
       "text": [
        "<matplotlib.figure.Figure at 0x7fb3407d6fd0>"
       ]
      }
     ],
     "prompt_number": 2
    },
    {
     "cell_type": "markdown",
     "metadata": {
      "collapsed": false
     },
     "source": [
      "# 3 Runtime\n",
      "In the second experiment, we will study how the training time or runtime of convolutional neural network changes with the number of units. Train your neural network on a GPU with the following number of filters: {8, 16, 32, 64, 128, 256}, measure the runtime (by using python\u2019s build-in function time.time()) and compute the total number of parameters. Generate a scatter plot with the number of parameters on the x-axis and on the runtime on the y-axis. Each filter size should be one point in this scatter plot. How does the number of parameters change if you increase the number of filters? How does the runtime change? At last, run the same experiments again on a CPU (with only the following number of filters: {8, 16, 32, 64}). How does the plot change?"
     ]
    },
    {
     "cell_type": "heading",
     "level": 1,
     "metadata": {
      "collapsed": false
     },
     "source": [
      "GPU Experiment"
     ]
    },
    {
     "cell_type": "code",
     "collapsed": false,
     "input": [
      "gpu_filters_list = [8, 16, 32, 64, 128, 256]\n",
      "gpu_time_list = list()\n",
      "gpu_parameters_list = list()\n",
      "\n",
      "for filter_iterator in gpu_filters_list:\n",
      "    print(\"Starting training for filter size : \",filter_iterator)\n",
      "    start_time = time.time()\n",
      "    gpu_parameters_list.append(total_parameters(filter_iterator))\n",
      "    conv_net_train(no_of_filters = filter_iterator,total_epochs=3, evaluation = False)\n",
      "    end_time = time.time()\n",
      "    gpu_time_list.append(end_time - start_time)\n",
      "\n",
      "gpu_text = ['8', '16', '32', '64', '128', '256']\n",
      "plt.scatter(gpu_parameters_list, gpu_time_list)\n",
      "\n",
      "for iterator, string in enumerate(gpu_text):\n",
      "    plt.annotate(string, (gpu_parameters_list[iterator], gpu_time_list[iterator]))\n",
      "    \n",
      "plt.title('GPU Experiment')\n",
      "plt.xlabel('no. of parameters')\n",
      "plt.ylabel('runtime')\n",
      "plt.savefig('gpuruntime.png')\n",
      "plt.show()"
     ],
     "language": "python",
     "metadata": {},
     "outputs": [
      {
       "output_type": "stream",
       "stream": "stdout",
       "text": [
        "Starting training for filter size :  8\n",
        "Starting training for filter size : "
       ]
      },
      {
       "output_type": "stream",
       "stream": "stdout",
       "text": [
        " 16\n",
        "Starting training for filter size : "
       ]
      },
      {
       "output_type": "stream",
       "stream": "stdout",
       "text": [
        " 32\n",
        "Starting training for filter size : "
       ]
      },
      {
       "output_type": "stream",
       "stream": "stdout",
       "text": [
        " 64\n",
        "Starting training for filter size : "
       ]
      },
      {
       "output_type": "stream",
       "stream": "stdout",
       "text": [
        " 128\n",
        "Starting training for filter size : "
       ]
      },
      {
       "output_type": "stream",
       "stream": "stdout",
       "text": [
        " 256\n"
       ]
      },
      {
       "metadata": {},
       "output_type": "display_data",
       "png": "[encoded data removed]",
       "text": [
        "<matplotlib.figure.Figure at 0x7fb3406e59e8>"
       ]
      }
     ],
     "prompt_number": 3
    },
    {
     "cell_type": "heading",
     "level": 1,
     "metadata": {
      "collapsed": false
     },
     "source": [
      "CPU Experiment"
     ]
    },
    {
     "cell_type": "code",
     "collapsed": false,
     "input": [
      "cpu_filters_list = [8, 16, 32, 64]\n",
      "cpu_time_list = list()\n",
      "cpu_parameters_list = list()\n",
      "for filter_iterator in cpu_filters_list:\n",
      "    print(\"Starting training for filter size : \",filter_iterator)\n",
      "    start_time = time.time()\n",
      "    cpu_parameters_list.append(total_parameters(filter_iterator))\n",
      "    conv_net_train(total_epochs = 3, no_of_filters = filter_iterator, evaluation = False)\n",
      "    end_time = time.time()\n",
      "    cpu_time_list.append(end_time - start_time)\n",
      "    \n",
      "cpu_text = ['8', '16', '32', '64']\n",
      "plt.scatter(cpu_parameters_list, cpu_time_list)\n",
      "for iterator, string in enumerate(cpu_text):\n",
      "    plt.annotate(string, (cpu_parameters_list[iterator], cpu_time_list[iterator]))\n",
      "\n",
      "plt.title('CPU Experiment')\n",
      "plt.xlabel('no. of parameters')\n",
      "plt.ylabel('runtime')\n",
      "plt.savefig('cpuruntime.png')\n",
      "plt.show()"
     ],
     "language": "python",
     "metadata": {},
     "outputs": [
      {
       "output_type": "stream",
       "stream": "stdout",
       "text": [
        "Starting training for filter size :  8\n",
        "Starting training for filter size :  16\n",
        "Starting training for filter size :  32\n",
        "Starting training for filter size :  64\n"
       ]
      },
      {
       "metadata": {},
       "output_type": "display_data",
       "png": "[encoded data removed]",
       "text": [
        "<matplotlib.figure.Figure at 0x159cb5b90>"
       ]
      }
     ],
     "prompt_number": 97
    }
   ],
   "metadata": {}
  }
 ]
}